{
 "cells": [
  {
   "cell_type": "markdown",
   "id": "d202f5d6",
   "metadata": {},
   "source": [
    "# Cell 1: Import Libraries and Load API Key"
   ]
  },
  {
   "cell_type": "code",
   "execution_count": null,
   "id": "fcbf6d78",
   "metadata": {},
   "outputs": [],
   "source": [
    "# Cell 1: Import libraries and load environment variables\n",
    "import os\n",
    "from dotenv import load_dotenv\n",
    "# from langchain_openai import ChatOpenAI\n",
    "from langchain_google_genai import ChatGoogleGenerativeAI\n",
    "\n",
    "# Load environment variables from .env file\n",
    "load_dotenv()\n",
    "\n",
    "# Get Gemini API key\n",
    "gemini_api_key = os.getenv(\"GEMINI_API_KEY\")\n",
    "\n",
    "# Verify API key is loaded\n",
    "if gemini_api_key:\n",
    "    print(\"✓ API Key loaded successfully\")\n",
    "    print(f\"✓ Key starts with: {gemini_api_key[:20]}...\")\n",
    "else:\n",
    "    print(\"✗ API Key not found. Check your .env file\")"
   ]
  },
  {
   "cell_type": "markdown",
   "id": "4ab2e151",
   "metadata": {},
   "source": [
    "# Cell 2: Initialize OpenAI LLM"
   ]
  },
  {
   "cell_type": "code",
   "execution_count": null,
   "id": "161abb03",
   "metadata": {},
   "outputs": [],
   "source": [
    "# Cell 2: Initialize Gemini LLM\n",
    "llm = ChatGoogleGenerativeAI(\n",
    "    model=\"gemini-1.5-flash\",  # Fast and free model\n",
    "    temperature=0.7,            # Creativity level\n",
    "    google_api_key=gemini_api_key\n",
    ")\n",
    "\n",
    "print(\"✓ Gemini LLM initialized successfully\")\n",
    "print(f\"✓ Model: gemini-1.5-flash\")\n",
    "print(f\"✓ Temperature: 0.7\")\n",
    "print(\"✓ 100% FREE - No costs!\")"
   ]
  },
  {
   "cell_type": "markdown",
   "id": "ed08194a",
   "metadata": {},
   "source": [
    "# Test the LLM with a Simple Message"
   ]
  },
  {
   "cell_type": "code",
   "execution_count": null,
   "id": "65df755e",
   "metadata": {},
   "outputs": [],
   "source": [
    "# Cell 3: Test LLM with a simple greeting\n",
    "from langchain_core.messages import HumanMessage\n",
    "\n",
    "# Create a simple test message\n",
    "messages = [\n",
    "    HumanMessage(content=\"Hello! Can you introduce yourself?\")\n",
    "]\n",
    "\n",
    "# Get response from LLM\n",
    "response = llm.invoke(messages)\n",
    "\n",
    "print(\"✓ Response received!\")\n",
    "print(f\"\\nUser: Hello! Can you introduce yourself?\")\n",
    "print(f\"AI: {response.content}\")"
   ]
  }
 ],
 "metadata": {
  "kernelspec": {
   "display_name": "venv",
   "language": "python",
   "name": "python3"
  },
  "language_info": {
   "codemirror_mode": {
    "name": "ipython",
    "version": 3
   },
   "file_extension": ".py",
   "mimetype": "text/x-python",
   "name": "python",
   "nbconvert_exporter": "python",
   "pygments_lexer": "ipython3",
   "version": "3.11.5"
  }
 },
 "nbformat": 4,
 "nbformat_minor": 5
}
